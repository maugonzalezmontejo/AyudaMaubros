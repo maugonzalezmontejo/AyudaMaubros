{
 "cells": [
  {
   "cell_type": "markdown",
   "metadata": {
    "collapsed": true,
    "pycharm": {
     "name": "#%% md\n"
    }
   },
   "source": [
    "Maubros:"
   ]
  },
  {
   "cell_type": "code",
   "execution_count": 20,
   "metadata": {
    "pycharm": {
     "name": "#%%\n"
    }
   },
   "outputs": [],
   "source": [
    "#Importar librerias basicas\n",
    "import pandas as pd\n",
    "import ipywidgets as widgets\n",
    "from IPython.display import display\n",
    "from ipywidgets import interactive\n",
    "import matplotlib.pyplot as plt\n",
    "import numpy as np"
   ]
  },
  {
   "cell_type": "markdown",
   "metadata": {
    "pycharm": {
     "name": "#%% md\n"
    }
   },
   "source": [
    "Se importan los datos de entrada de Excel Productos"
   ]
  },
  {
   "cell_type": "code",
   "execution_count": 21,
   "metadata": {
    "pycharm": {
     "name": "#%%\n"
    }
   },
   "outputs": [],
   "source": [
    "def importarProductos():\n",
    "    datos = pd.read_excel('Productos.xlsx', usecols=[0,1])\n",
    "    return datos\n",
    "\n",
    "def importarProcesos():\n",
    "    datos = pd.read_excel('Productos.xlsx')\n",
    "    return list(datos.columns.values)[2:]\n",
    "\n",
    "def importarInfoTiempos():\n",
    "    datos = pd.read_excel('Productos.xlsx')\n",
    "    return datos\n",
    "\n",
    "\n",
    "prod = importarProductos()\n",
    "proc = importarProcesos()\n",
    "temps = importarInfoTiempos()\n"
   ]
  },
  {
   "cell_type": "markdown",
   "metadata": {
    "pycharm": {
     "name": "#%% md\n"
    }
   },
   "source": [
    "Se reciben las entradas del usuario para las relaciones de productos"
   ]
  },
  {
   "cell_type": "code",
   "execution_count": 6,
   "metadata": {
    "pycharm": {
     "name": "#%%\n"
    }
   },
   "outputs": [
    {
     "data": {
      "application/vnd.jupyter.widget-view+json": {
       "model_id": "daa7dc1f88af40a58727cdf794887809",
       "version_major": 2,
       "version_minor": 0
      },
      "text/plain": [
       "VBox(children=(Label(value='Defina las relaciones a tratar con los productos'), IntText(value=0, description='…"
      ]
     },
     "metadata": {},
     "output_type": "display_data"
    },
    {
     "data": {
      "application/vnd.jupyter.widget-view+json": {
       "model_id": "fe3af5fbcdbb4b0ba7dabb0bd3dc69c9",
       "version_major": 2,
       "version_minor": 0
      },
      "text/plain": [
       "VBox(children=(Label(value='Defina parametros para el margen'), FloatText(value=0.0, description='Precio de Ha…"
      ]
     },
     "metadata": {},
     "output_type": "display_data"
    }
   ],
   "source": [
    "etiquetaInstrucciones = widgets.Label(value = 'Defina las relaciones a tratar con los productos')\n",
    "listaProductos = list(prod['Productos'])\n",
    "listaWidgetsRelacion = []\n",
    "for producto in listaProductos:\n",
    "    listaWidgetsRelacion += [widgets.IntText(value=0, description = producto, disabled = False)]\n",
    "cajaEntradasRelaciones = widgets.VBox([etiquetaInstrucciones]+listaWidgetsRelacion)\n",
    "\n",
    "etiquetaMargen = widgets.Label(value = 'Defina parametros para el margen')\n",
    "listaPrecio = []\n",
    "listaCosto = []\n",
    "for producto in listaProductos:\n",
    "    listaCosto += [widgets.FloatText(value=0, description = 'Costo de ' + producto, disabled = False)]\n",
    "    listaPrecio += [widgets.FloatText(value=0, description = 'Precio de ' + producto, disabled = False)]\n",
    "cajaMargen = widgets.VBox([etiquetaMargen]+listaPrecio+listaCosto)\n",
    "\n",
    "\n",
    "display(cajaEntradasRelaciones, cajaMargen)\n",
    "\n",
    "\n",
    "\n"
   ]
  },
  {
   "cell_type": "markdown",
   "metadata": {
    "pycharm": {
     "name": "#%% md\n"
    }
   },
   "source": [
    "Se muestran valores cuellos de botella"
   ]
  },
  {
   "cell_type": "code",
   "execution_count": 22,
   "metadata": {
    "pycharm": {
     "name": "#%%\n"
    }
   },
   "outputs": [
    {
     "data": {
      "image/png": "[encoded data removed]",
      "text/plain": [
       "<Figure size 1080x360 with 1 Axes>"
      ]
     },
     "metadata": {
      "needs_background": "light"
     },
     "output_type": "display_data"
    }
   ],
   "source": [
    "usarDatosTemp = np.transpose(np.array(temps.fillna(0)))[2:]\n",
    "usarDatosTemp = np.transpose(usarDatosTemp)\n",
    "\n",
    "colLabel = proc\n",
    "rLabel = []\n",
    "nombreRelacion = ''\n",
    "for i in range(len(listaProductos)):\n",
    "    nombreRelacion += listaProductos[i] +str(listaWidgetsRelacion[i].value)\n",
    "    if i+1 != len(prod):\n",
    "        nombreRelacion += ':'\n",
    "rLabel += [nombreRelacion]\n",
    "enCuello = []\n",
    "\n",
    "\n",
    "temporalCalCuello = 0\n",
    "for j in range(len(usarDatosTemp)):\n",
    "    multiplicador = usarDatosTemp[j]\n",
    "    temporalCalCuello +=  multiplicador * listaWidgetsRelacion[j].value\n",
    "enCuello += [temporalCalCuello]\n",
    "fig, ax = plt.subplots()\n",
    "a = np.array(enCuello)\n",
    "fig.set_figheight(5)\n",
    "fig.set_figwidth(15)\n",
    "ax.get_xaxis().set_visible(False)\n",
    "ax.get_yaxis().set_visible(False)\n",
    "plt.box(on=None)\n",
    "ax.table(cellText = enCuello, colLabels = colLabel, rowLabels = rLabel, loc = 'center')\n",
    "plt.show()\n"
   ]
  },
  {
   "cell_type": "code",
   "execution_count": 28,
   "metadata": {
    "pycharm": {
     "name": "#%%\n"
    }
   },
   "outputs": [
    {
     "data": {
      "image/png": "[encoded data removed]",
      "text/plain": [
       "<Figure size 576x360 with 1 Axes>"
      ]
     },
     "metadata": {
      "needs_background": "light"
     },
     "output_type": "display_data"
    },
    {
     "data": {
      "image/png": "[encoded data removed]",
      "text/plain": [
       "<Figure size 360x360 with 1 Axes>"
      ]
     },
     "metadata": {
      "needs_background": "light"
     },
     "output_type": "display_data"
    }
   ],
   "source": [
    "maximos = []\n",
    "margenes = []\n",
    "for i in range(len(listaPrecio)):\n",
    "    margenes += [listaPrecio[i].value - listaCosto[i].value]\n",
    "indices = []\n",
    "for temps in usarDatosTemp:\n",
    "    indices += [np.argmax(temps)]\n",
    "tpts = []\n",
    "for j in range(len(listaProductos)):\n",
    "    tpts += [margenes[j] / usarDatosTemp[j][indices[j]]]\n",
    "\n",
    "tptGlobal = 0\n",
    "for k in range(len(listaProductos)):\n",
    "    tptGlobal += listaWidgetsRelacion[k].value * tpts[k]\n",
    "\n",
    "figA, axA = plt.subplots()\n",
    "figB, axB = plt.subplots()\n",
    "plt.box(on=False)\n",
    "axA.table(cellText = [np.array(tpts)], rowLabels = rLabel, colLabels = colLabel, loc = 'center')\n",
    "figA.set_figheight(5)\n",
    "figA.set_figwidth(8)\n",
    "axA.get_xaxis().set_visible(False)\n",
    "axA.get_yaxis().set_visible(False)\n",
    "axB.table(cellText = [np.array([tptGlobal])], rowLabels = rLabel, colLabels = ['TPT Global'], loc = 'center')\n",
    "figB.set_figheight(5)\n",
    "figB.set_figwidth(5)\n",
    "axB.get_xaxis().set_visible(False)\n",
    "axB.get_yaxis().set_visible(False)\n",
    "plt.show()"
   ]
  },
  {
   "cell_type": "code",
   "execution_count": null,
   "metadata": {
    "pycharm": {
     "name": "#%%\n"
    }
   },
   "outputs": [],
   "source": []
  }
 ],
 "metadata": {
  "kernelspec": {
   "display_name": "Python 3",
   "language": "python",
   "name": "python3"
  },
  "language_info": {
   "codemirror_mode": {
    "name": "ipython",
    "version": 3
   },
   "file_extension": ".py",
   "mimetype": "text/x-python",
   "name": "python",
   "nbconvert_exporter": "python",
   "pygments_lexer": "ipython3",
   "version": "3.8.8"
  }
 },
 "nbformat": 4,
 "nbformat_minor": 1
}
